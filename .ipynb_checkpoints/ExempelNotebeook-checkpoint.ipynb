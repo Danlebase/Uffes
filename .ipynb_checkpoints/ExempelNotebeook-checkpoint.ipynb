{
 "cells": [
  {
   "cell_type": "markdown",
   "metadata": {},
   "source": [
    "# Exempel notebook\n",
    "\n",
    "1. Läsa in data från SAS dataset\n",
    "* Hur man skapar en ny variabel baserat på befintlig variabel\n",
    "* Hur man konverterar ett string objekt till Pandas datetime variabel\n",
    "* Några enkla metoder för att förstå sitt data\n",
    "* Gruppering av data\n",
    "* Filtrering - välja rader på kriterium\n",
    "* Flödeslogik och villkor i en funktion applicerad mot dataframe\n",
    "* Joina dataframes\n",
    "* Konkatinera dataframes\n",
    "* Visualisering - Matplotlib"
   ]
  },
  {
   "cell_type": "code",
   "execution_count": 2,
   "metadata": {
    "collapsed": true
   },
   "outputs": [],
   "source": [
    "import pandas as pd\n",
    "import numpy as np\n",
    "import matplotlib \n",
    "import matplotlib.pyplot as plt"
   ]
  },
  {
   "cell_type": "code",
   "execution_count": 3,
   "metadata": {
    "collapsed": true
   },
   "outputs": [],
   "source": [
    "?pd.read_sas"
   ]
  },
  {
   "cell_type": "code",
   "execution_count": 4,
   "metadata": {},
   "outputs": [
    {
     "data": {
      "text/plain": [
       "function"
      ]
     },
     "execution_count": 4,
     "metadata": {},
     "output_type": "execute_result"
    }
   ],
   "source": [
    "type(pd.read_sas)"
   ]
  },
  {
   "cell_type": "markdown",
   "metadata": {},
   "source": [
    "## 1. Läsa in data från SAS format"
   ]
  },
  {
   "cell_type": "code",
   "execution_count": 5,
   "metadata": {},
   "outputs": [],
   "source": [
    "df_staff = pd.read_sas('staff.sas7bdat', encoding = 'Latin8')"
   ]
  },
  {
   "cell_type": "code",
   "execution_count": 6,
   "metadata": {},
   "outputs": [
    {
     "name": "stdout",
     "output_type": "stream",
     "text": [
      "<class 'pandas.core.frame.DataFrame'>\n",
      "RangeIndex: 424 entries, 0 to 423\n",
      "Data columns (total 10 columns):\n",
      "Employee_ID      424 non-null float64\n",
      "Job_Title        424 non-null object\n",
      "Salary           424 non-null float64\n",
      "Gender           424 non-null object\n",
      "Birth_Date       424 non-null float64\n",
      "Emp_Hire_Date    424 non-null float64\n",
      "Emp_Term_Date    116 non-null float64\n",
      "Manager_ID       423 non-null float64\n",
      "start_date       424 non-null object\n",
      "end_date         424 non-null object\n",
      "dtypes: float64(6), object(4)\n",
      "memory usage: 33.2+ KB\n"
     ]
    }
   ],
   "source": [
    "# Information om det inlästa datat\n",
    "df_staff.info()"
   ]
  },
  {
   "cell_type": "code",
   "execution_count": 7,
   "metadata": {},
   "outputs": [
    {
     "data": {
      "text/html": [
       "<div>\n",
       "<style>\n",
       "    .dataframe thead tr:only-child th {\n",
       "        text-align: right;\n",
       "    }\n",
       "\n",
       "    .dataframe thead th {\n",
       "        text-align: left;\n",
       "    }\n",
       "\n",
       "    .dataframe tbody tr th {\n",
       "        vertical-align: top;\n",
       "    }\n",
       "</style>\n",
       "<table border=\"1\" class=\"dataframe\">\n",
       "  <thead>\n",
       "    <tr style=\"text-align: right;\">\n",
       "      <th></th>\n",
       "      <th>Employee_ID</th>\n",
       "      <th>Job_Title</th>\n",
       "      <th>Salary</th>\n",
       "      <th>Gender</th>\n",
       "      <th>Birth_Date</th>\n",
       "      <th>Emp_Hire_Date</th>\n",
       "      <th>Emp_Term_Date</th>\n",
       "      <th>Manager_ID</th>\n",
       "      <th>start_date</th>\n",
       "      <th>end_date</th>\n",
       "    </tr>\n",
       "  </thead>\n",
       "  <tbody>\n",
       "    <tr>\n",
       "      <th>0</th>\n",
       "      <td>120101.0</td>\n",
       "      <td>Director</td>\n",
       "      <td>163040.0</td>\n",
       "      <td>M</td>\n",
       "      <td>7535.0</td>\n",
       "      <td>17348.0</td>\n",
       "      <td>NaN</td>\n",
       "      <td>120261.0</td>\n",
       "      <td>2007-07-01</td>\n",
       "      <td>9999-12-31</td>\n",
       "    </tr>\n",
       "    <tr>\n",
       "      <th>1</th>\n",
       "      <td>120102.0</td>\n",
       "      <td>Sales Manager</td>\n",
       "      <td>108255.0</td>\n",
       "      <td>M</td>\n",
       "      <td>4971.0</td>\n",
       "      <td>12205.0</td>\n",
       "      <td>NaN</td>\n",
       "      <td>120101.0</td>\n",
       "      <td>1993-06-01</td>\n",
       "      <td>9999-12-31</td>\n",
       "    </tr>\n",
       "    <tr>\n",
       "      <th>2</th>\n",
       "      <td>120103.0</td>\n",
       "      <td>Sales Manager</td>\n",
       "      <td>87975.0</td>\n",
       "      <td>M</td>\n",
       "      <td>-2535.0</td>\n",
       "      <td>6575.0</td>\n",
       "      <td>NaN</td>\n",
       "      <td>120101.0</td>\n",
       "      <td>1978-01-01</td>\n",
       "      <td>9999-12-31</td>\n",
       "    </tr>\n",
       "    <tr>\n",
       "      <th>3</th>\n",
       "      <td>120104.0</td>\n",
       "      <td>Administration Manager</td>\n",
       "      <td>46230.0</td>\n",
       "      <td>F</td>\n",
       "      <td>-600.0</td>\n",
       "      <td>9132.0</td>\n",
       "      <td>NaN</td>\n",
       "      <td>120101.0</td>\n",
       "      <td>1985-01-01</td>\n",
       "      <td>9999-12-31</td>\n",
       "    </tr>\n",
       "    <tr>\n",
       "      <th>4</th>\n",
       "      <td>120105.0</td>\n",
       "      <td>Secretary I</td>\n",
       "      <td>27110.0</td>\n",
       "      <td>F</td>\n",
       "      <td>6929.0</td>\n",
       "      <td>15826.0</td>\n",
       "      <td>NaN</td>\n",
       "      <td>120101.0</td>\n",
       "      <td>2003-05-01</td>\n",
       "      <td>9999-12-31</td>\n",
       "    </tr>\n",
       "  </tbody>\n",
       "</table>\n",
       "</div>"
      ],
      "text/plain": [
       "   Employee_ID               Job_Title    Salary Gender  Birth_Date  \\\n",
       "0     120101.0                Director  163040.0      M      7535.0   \n",
       "1     120102.0           Sales Manager  108255.0      M      4971.0   \n",
       "2     120103.0           Sales Manager   87975.0      M     -2535.0   \n",
       "3     120104.0  Administration Manager   46230.0      F      -600.0   \n",
       "4     120105.0             Secretary I   27110.0      F      6929.0   \n",
       "\n",
       "   Emp_Hire_Date  Emp_Term_Date  Manager_ID  start_date    end_date  \n",
       "0        17348.0            NaN    120261.0  2007-07-01  9999-12-31  \n",
       "1        12205.0            NaN    120101.0  1993-06-01  9999-12-31  \n",
       "2         6575.0            NaN    120101.0  1978-01-01  9999-12-31  \n",
       "3         9132.0            NaN    120101.0  1985-01-01  9999-12-31  \n",
       "4        15826.0            NaN    120101.0  2003-05-01  9999-12-31  "
      ]
     },
     "execution_count": 7,
     "metadata": {},
     "output_type": "execute_result"
    }
   ],
   "source": [
    "# Tittar på de 5 första observationerna\n",
    "df_staff.head()"
   ]
  },
  {
   "cell_type": "markdown",
   "metadata": {},
   "source": [
    "### Dataframen innehåller två datatyper: float64 samt object\n",
    "* float64 - numerisk variabel med decimaler\n",
    "* object - pandas datatyp för character"
   ]
  },
  {
   "cell_type": "markdown",
   "metadata": {},
   "source": [
    "## 2. Hur skapar man en ny variabel i Pandas"
   ]
  },
  {
   "cell_type": "code",
   "execution_count": null,
   "metadata": {
    "collapsed": true
   },
   "outputs": [],
   "source": [
    "df_staff['Double'] = df_staff['Salary'] * 2"
   ]
  },
  {
   "cell_type": "code",
   "execution_count": null,
   "metadata": {},
   "outputs": [],
   "source": [
    "df_staff.head()"
   ]
  },
  {
   "cell_type": "markdown",
   "metadata": {},
   "source": [
    "## 3. Konvertera till datetimeformat\n",
    "\n",
    "### Vi behöver konvertera datumvariablerna (Start_Date samt End:Date) till datetime - datumvariabel i Pandas. Nu ligger den som objekt och då kan vi inte applicera datum metoder på denna. För att göra den konverteringen använder vi pandas funktion to_datetime\n"
   ]
  },
  {
   "cell_type": "code",
   "execution_count": 8,
   "metadata": {
    "collapsed": true
   },
   "outputs": [],
   "source": [
    "?pd.to_datetime"
   ]
  },
  {
   "cell_type": "code",
   "execution_count": 9,
   "metadata": {},
   "outputs": [],
   "source": [
    "df_staff['P_start_date'] = pd.to_datetime(df_staff['start_date'])"
   ]
  },
  {
   "cell_type": "code",
   "execution_count": null,
   "metadata": {},
   "outputs": [],
   "source": [
    "df_staff.info()"
   ]
  },
  {
   "cell_type": "code",
   "execution_count": null,
   "metadata": {},
   "outputs": [],
   "source": [
    "df_staff.head()"
   ]
  },
  {
   "cell_type": "markdown",
   "metadata": {},
   "source": [
    "### Nu kan vi applicera metoder mot datumvariabeln"
   ]
  },
  {
   "cell_type": "code",
   "execution_count": null,
   "metadata": {},
   "outputs": [],
   "source": [
    "type(df_staff['P_start_date'])"
   ]
  },
  {
   "cell_type": "code",
   "execution_count": null,
   "metadata": {
    "collapsed": true
   },
   "outputs": [],
   "source": [
    "# För att se vilka attribut som finns tillgängliga på en serie\n",
    "test = df_staff['P_start_date']"
   ]
  },
  {
   "cell_type": "code",
   "execution_count": null,
   "metadata": {},
   "outputs": [],
   "source": [
    "dir(test)"
   ]
  },
  {
   "cell_type": "code",
   "execution_count": null,
   "metadata": {
    "collapsed": true
   },
   "outputs": [],
   "source": [
    "?test.dt"
   ]
  },
  {
   "cell_type": "markdown",
   "metadata": {},
   "source": [
    "### Vi skapar år, månad och dag"
   ]
  },
  {
   "cell_type": "code",
   "execution_count": null,
   "metadata": {
    "collapsed": true
   },
   "outputs": [],
   "source": [
    "df_staff['Year'] = df_staff['P_start_date'].dt.year\n",
    "df_staff['Month'] = df_staff['P_start_date'].dt.month\n",
    "df_staff['day'] = df_staff['P_start_date'].dt.month\n"
   ]
  },
  {
   "cell_type": "code",
   "execution_count": null,
   "metadata": {},
   "outputs": [],
   "source": [
    "df_staff.head()"
   ]
  },
  {
   "cell_type": "markdown",
   "metadata": {},
   "source": [
    "## 4. Exempel på metoder för att enkelt förstå sitt data"
   ]
  },
  {
   "cell_type": "code",
   "execution_count": null,
   "metadata": {},
   "outputs": [],
   "source": [
    "# Fördelning män och kvinnor\n",
    "df_staff['Gender'].value_counts()"
   ]
  },
  {
   "cell_type": "code",
   "execution_count": null,
   "metadata": {},
   "outputs": [],
   "source": [
    "# Medelvärde lön\n",
    "df_staff['Salary'].mean()\n"
   ]
  },
  {
   "cell_type": "code",
   "execution_count": null,
   "metadata": {},
   "outputs": [],
   "source": [
    "# Univariat statistik på alla numeriska variabler i dataframen\n",
    "df_staff.describe()"
   ]
  },
  {
   "cell_type": "markdown",
   "metadata": {},
   "source": [
    "## 5. Gruppering av data. \n",
    "### För att gruppera sitt data skapar man ett sk grouped objekt. Ett grouped objekt innehåller metadata som beskriver hur grupperingen är gjord. På detta objekt kan man sedan välja kolumner att ta fram olika statistik på. Detta sker - det vet ni nu - självklart med en lämplig metod."
   ]
  },
  {
   "cell_type": "code",
   "execution_count": null,
   "metadata": {
    "collapsed": true
   },
   "outputs": [],
   "source": [
    "# Vi skapar ett grouped objekt på Gender\n",
    "\n",
    "grouped = df_staff.groupby('Gender')"
   ]
  },
  {
   "cell_type": "code",
   "execution_count": null,
   "metadata": {},
   "outputs": [],
   "source": [
    "type(grouped)"
   ]
  },
  {
   "cell_type": "code",
   "execution_count": null,
   "metadata": {},
   "outputs": [],
   "source": [
    "# Finns det någon skillnad i lön mellan män och kvinnor?. Väljer Serien Salery från groupedby objektet och applicerar \n",
    "# metoden mean\n",
    "\n",
    "grouped['Salary'].mean()"
   ]
  },
  {
   "cell_type": "code",
   "execution_count": null,
   "metadata": {
    "collapsed": true
   },
   "outputs": [],
   "source": [
    "### Man kan självklart gruppera på mer än en variabel. Observera att man då lägger grupperingsvariablerna i en lista\n",
    "\n",
    "grouped_multi =  df_staff.groupby(['Year','Gender'])"
   ]
  },
  {
   "cell_type": "code",
   "execution_count": null,
   "metadata": {},
   "outputs": [],
   "source": [
    "round(grouped_multi['Salary'].mean())"
   ]
  },
  {
   "cell_type": "markdown",
   "metadata": {},
   "source": [
    "## 6. Filtrering - välja rader på kriterium"
   ]
  },
  {
   "cell_type": "code",
   "execution_count": null,
   "metadata": {
    "collapsed": true
   },
   "outputs": [],
   "source": [
    "# Vi skapar en ny dataframe som enbart innehåller kvinnor\n",
    "df_staff_female = df_staff[df_staff['Gender'] == 'F']"
   ]
  },
  {
   "cell_type": "code",
   "execution_count": null,
   "metadata": {},
   "outputs": [],
   "source": [
    "df_staff_female.count()"
   ]
  },
  {
   "cell_type": "markdown",
   "metadata": {},
   "source": [
    "### Vad är det vi gör här egentligen?"
   ]
  },
  {
   "cell_type": "code",
   "execution_count": 1,
   "metadata": {},
   "outputs": [
    {
     "ename": "NameError",
     "evalue": "name 'df_staff' is not defined",
     "output_type": "error",
     "traceback": [
      "\u001b[1;31m---------------------------------------------------------------------------\u001b[0m",
      "\u001b[1;31mNameError\u001b[0m                                 Traceback (most recent call last)",
      "\u001b[1;32m<ipython-input-1-8982ebf73d66>\u001b[0m in \u001b[0;36m<module>\u001b[1;34m()\u001b[0m\n\u001b[1;32m----> 1\u001b[1;33m \u001b[0mdf_staff\u001b[0m\u001b[1;33m[\u001b[0m\u001b[1;34m'Truth'\u001b[0m\u001b[1;33m]\u001b[0m \u001b[1;33m=\u001b[0m \u001b[0mdf_staff\u001b[0m\u001b[1;33m[\u001b[0m\u001b[1;34m'Gender'\u001b[0m\u001b[1;33m]\u001b[0m \u001b[1;33m==\u001b[0m \u001b[1;34m'F'\u001b[0m\u001b[1;33m\u001b[0m\u001b[0m\n\u001b[0m",
      "\u001b[1;31mNameError\u001b[0m: name 'df_staff' is not defined"
     ]
    }
   ],
   "source": [
    "df_staff['Truth'] = df_staff['Gender'] == 'F'"
   ]
  },
  {
   "cell_type": "code",
   "execution_count": null,
   "metadata": {},
   "outputs": [],
   "source": [
    "# Väljer ett subset av variabler\n",
    "df_staff[['Gender','Truth']].head()"
   ]
  },
  {
   "cell_type": "code",
   "execution_count": null,
   "metadata": {
    "collapsed": true
   },
   "outputs": [],
   "source": [
    "### Subsetting with Calculated Values - exempel SQL\n",
    "\n",
    "'''\n",
    "proc sql;\n",
    "select Gender, Salary, Bonus,\n",
    "       Salary * .10 as Bonus\n",
    "   from orion.employee_payroll\n",
    "   where calculated Bonus < 3000;\n",
    "quit; \n",
    "\n",
    "'''\n"
   ]
  },
  {
   "cell_type": "code",
   "execution_count": null,
   "metadata": {},
   "outputs": [],
   "source": [
    "df_staff['Bonus'] = df_staff['Salary'] * 0.1\n",
    "df_staff_subset = df_staff[df_staff['Bonus'] > 3000][[ 'Gender', 'Salary','Bonus']]"
   ]
  },
  {
   "cell_type": "code",
   "execution_count": null,
   "metadata": {},
   "outputs": [],
   "source": [
    "df_staff_subset.head(10)"
   ]
  },
  {
   "cell_type": "code",
   "execution_count": null,
   "metadata": {},
   "outputs": [],
   "source": [
    "df_staff_subset['Gender'].value_counts()"
   ]
  },
  {
   "cell_type": "markdown",
   "metadata": {},
   "source": [
    "## 7. Flödeslogik och villkor i en funktion applicerad mot dataframe\n",
    "### Förfina logiken med egendiefinerad funktion som ancänds av apply metoden i en lambda funktion. Om det är en kvinna ska bonusen vara 20%, om en man -20%."
   ]
  },
  {
   "cell_type": "code",
   "execution_count": null,
   "metadata": {},
   "outputs": [],
   "source": [
    "def metoo(gender, salery):\n",
    "    if gender == 'F':\n",
    "        bonus = salery * 0.2\n",
    "    else:\n",
    "        bonus = salery * (-0.2)\n",
    "    return bonus"
   ]
  },
  {
   "cell_type": "code",
   "execution_count": null,
   "metadata": {},
   "outputs": [],
   "source": [
    "bonus = metoo('M',100)\n",
    "bonus"
   ]
  },
  {
   "cell_type": "markdown",
   "metadata": {},
   "source": [
    "### OBS! Förstår man nedan har man ett mycket kraftfullt verktyg för att manipupelera data på radnivå med Pandas"
   ]
  },
  {
   "cell_type": "code",
   "execution_count": null,
   "metadata": {
    "collapsed": true
   },
   "outputs": [],
   "source": [
    "df_staff['Mee_to_Bonus'] = df_staff.apply(lambda x: metoo(x['Gender'], x['Salary']), axis = 1) "
   ]
  },
  {
   "cell_type": "markdown",
   "metadata": {},
   "source": [
    "### Metoden apply appliceras på objektet df_staff. Denna metod tillåter att man skickar in en funktion. I exemplet ovan är det en lambda funktion som använder en egendefineradfunktion som argument (metoo). På varje rad appliceras funktionen metoo med argumenten df_staff['Gender'] och df_staff['Salary]. Lambda funktionen erbjuder möjligheter att använda funktioner i sammanhang där den vanliga funktionen inte fungerar. Det är väl använd tid att sätta sig in i lambda konceptet."
   ]
  },
  {
   "cell_type": "code",
   "execution_count": null,
   "metadata": {},
   "outputs": [],
   "source": [
    "df_staff[['Gender','Salary','Mee_to_Bonus']].head(10)"
   ]
  },
  {
   "cell_type": "code",
   "execution_count": null,
   "metadata": {
    "collapsed": true
   },
   "outputs": [],
   "source": [
    "?df_staff.apply"
   ]
  },
  {
   "cell_type": "code",
   "execution_count": null,
   "metadata": {},
   "outputs": [],
   "source": [
    "type(df_staff.apply)"
   ]
  },
  {
   "cell_type": "markdown",
   "metadata": {},
   "source": [
    "## 8. Joina dataframes "
   ]
  },
  {
   "cell_type": "code",
   "execution_count": null,
   "metadata": {},
   "outputs": [],
   "source": [
    "df_cust = pd.read_sas('customer2.sas7bdat', encoding = 'Latin8')\n",
    "df_trans = pd.read_sas('transaction2.sas7bdat', encoding = 'Latin8')"
   ]
  },
  {
   "cell_type": "code",
   "execution_count": null,
   "metadata": {},
   "outputs": [],
   "source": [
    "df_cust.info()"
   ]
  },
  {
   "cell_type": "code",
   "execution_count": null,
   "metadata": {},
   "outputs": [],
   "source": [
    "df_trans.info()"
   ]
  },
  {
   "cell_type": "code",
   "execution_count": null,
   "metadata": {},
   "outputs": [],
   "source": [
    "df_cust.head()"
   ]
  },
  {
   "cell_type": "code",
   "execution_count": null,
   "metadata": {},
   "outputs": [],
   "source": [
    "df_cust = df_cust.drop_duplicates('ID')\n",
    "df_cust.head()"
   ]
  },
  {
   "cell_type": "code",
   "execution_count": null,
   "metadata": {},
   "outputs": [],
   "source": [
    "df_trans.head()"
   ]
  },
  {
   "cell_type": "code",
   "execution_count": null,
   "metadata": {},
   "outputs": [],
   "source": [
    "# Inner join\n",
    "df_merged_inner = df_cust.merge(df_trans, on = ['ID'], how = 'inner')\n",
    "df_merged_inner.head()\n"
   ]
  },
  {
   "cell_type": "code",
   "execution_count": null,
   "metadata": {},
   "outputs": [],
   "source": [
    "# Left join \n",
    "\n",
    "df_merged_left = df_cust.merge(df_trans, on = ['ID'], how = 'left')\n",
    "df_merged_left.head()"
   ]
  },
  {
   "cell_type": "code",
   "execution_count": null,
   "metadata": {},
   "outputs": [],
   "source": [
    "# Outer join\n",
    "\n",
    "df_merged_outer = df_cust.merge(df_trans, on = ['ID'], how = 'outer')\n",
    "df_merged_outer.head(6)"
   ]
  },
  {
   "cell_type": "markdown",
   "metadata": {
    "collapsed": true
   },
   "source": [
    "## 9. Konkatinera dataframes"
   ]
  },
  {
   "cell_type": "code",
   "execution_count": null,
   "metadata": {
    "collapsed": true
   },
   "outputs": [],
   "source": [
    "df_merged = df_merged_outer.copy() "
   ]
  },
  {
   "cell_type": "code",
   "execution_count": null,
   "metadata": {},
   "outputs": [],
   "source": [
    "df_merged"
   ]
  },
  {
   "cell_type": "code",
   "execution_count": null,
   "metadata": {},
   "outputs": [],
   "source": [
    "concat_df = pd.concat([df_merged, df_merged_outer ], axis = 0)"
   ]
  },
  {
   "cell_type": "code",
   "execution_count": null,
   "metadata": {},
   "outputs": [],
   "source": [
    "concat_df.head(20)"
   ]
  },
  {
   "cell_type": "markdown",
   "metadata": {},
   "source": [
    "## 9. Split - Apply - Combine\n",
    "### Aggregering - summera data i en serie för att returnera en skalär.  Vi vill ta fram statistik över en gruppering på data: split- apply-combine konceptet"
   ]
  },
  {
   "cell_type": "markdown",
   "metadata": {},
   "source": [
    "* Split - Datat delas upp i delar på vald grupperingsvariabel\n",
    "* Apply - På delarna appliceras logik som returnerar skalär\n",
    "* Combine - Delarna sätts ihop på grupperingsvariabeln"
   ]
  },
  {
   "cell_type": "code",
   "execution_count": null,
   "metadata": {
    "collapsed": true
   },
   "outputs": [],
   "source": [
    "# Läser in nytt exempeldata.\n",
    "\n",
    "df_order_fact = pd.read_sas('order_fact.sas7bdat', encoding = 'Latin8')\n",
    "df_product_dim = pd.read_sas('product_dim.sas7bdat', encoding = 'Latin8')"
   ]
  },
  {
   "cell_type": "code",
   "execution_count": null,
   "metadata": {},
   "outputs": [],
   "source": [
    "df_product_dim.info()"
   ]
  },
  {
   "cell_type": "code",
   "execution_count": null,
   "metadata": {},
   "outputs": [],
   "source": [
    "df_product_dim.head()"
   ]
  },
  {
   "cell_type": "code",
   "execution_count": null,
   "metadata": {},
   "outputs": [],
   "source": [
    "df_order_fact.info()"
   ]
  },
  {
   "cell_type": "code",
   "execution_count": null,
   "metadata": {},
   "outputs": [],
   "source": [
    "### Joinar fakta tabell mot dimensonstabellen och lägger på produktkategori\n",
    "\n",
    "df_analys = df_order_fact.merge(df_product_dim[['Product_ID','Product_Line','Product_Category']],\n",
    "                                on = ['Product_ID'], how = 'inner')"
   ]
  },
  {
   "cell_type": "code",
   "execution_count": null,
   "metadata": {},
   "outputs": [],
   "source": [
    "df_analys.info()"
   ]
  },
  {
   "cell_type": "code",
   "execution_count": null,
   "metadata": {},
   "outputs": [],
   "source": [
    "df_analys['Product_Category'].value_counts()"
   ]
  },
  {
   "cell_type": "code",
   "execution_count": null,
   "metadata": {},
   "outputs": [],
   "source": [
    "df_analys['Product_Line'].value_counts()"
   ]
  },
  {
   "cell_type": "code",
   "execution_count": null,
   "metadata": {},
   "outputs": [],
   "source": [
    "# Andel av totalen\n",
    "round(df_analys['Product_Line'].value_counts()/len(df_analys),2)"
   ]
  },
  {
   "cell_type": "markdown",
   "metadata": {},
   "source": [
    "### Nu vill vi ta fram statistik på grupperingen Product Line - vi använder split - apply - combine konceptet. Först med Pandas optimerade metoder. Dessa anropas med agg metoden - returnerar skalär "
   ]
  },
  {
   "cell_type": "code",
   "execution_count": null,
   "metadata": {
    "collapsed": true
   },
   "outputs": [],
   "source": [
    "grouped = df_analys.groupby(['Product_Line','Product_Category']) "
   ]
  },
  {
   "cell_type": "code",
   "execution_count": null,
   "metadata": {},
   "outputs": [],
   "source": [
    "result = grouped['Total_Retail_Price'].agg('mean')\n",
    "result"
   ]
  },
  {
   "cell_type": "code",
   "execution_count": null,
   "metadata": {},
   "outputs": [],
   "source": [
    "### Du kan använda flera funktioner i samma anrop\n",
    "funtions = ['count','mean','max']\n",
    "result1 = grouped['Total_Retail_Price'].agg(funtions)\n",
    "result1\n",
    "\n"
   ]
  },
  {
   "cell_type": "markdown",
   "metadata": {},
   "source": [
    "### Om vi inte är nöjda med de defaulta namnen -använd en tuple"
   ]
  },
  {
   "cell_type": "code",
   "execution_count": null,
   "metadata": {},
   "outputs": [],
   "source": [
    "### Du kan använda flera funktioner i samma anrop\n",
    "funtions2 = [('N','count'),('Medel','mean'),('Max','max')]\n",
    "\n",
    "result2 = grouped['Total_Retail_Price'].agg(funtions2)\n",
    "result2"
   ]
  },
  {
   "cell_type": "markdown",
   "metadata": {},
   "source": [
    "### Slutligen gör vi en egen funktion som vi använder apply mot"
   ]
  },
  {
   "cell_type": "markdown",
   "metadata": {},
   "source": [
    "### Vi vill plocka de fem högs betalda anställda per kön i df_staff"
   ]
  },
  {
   "cell_type": "code",
   "execution_count": null,
   "metadata": {},
   "outputs": [],
   "source": [
    "df_staff.info()"
   ]
  },
  {
   "cell_type": "code",
   "execution_count": null,
   "metadata": {
    "collapsed": true
   },
   "outputs": [],
   "source": [
    "# Gör din egna funktion\n",
    "def top(df, n = 5, column ='Salary'): \n",
    "    return df.sort_values(by = column)[-n:]"
   ]
  },
  {
   "cell_type": "code",
   "execution_count": null,
   "metadata": {},
   "outputs": [],
   "source": [
    "top(df_staff)"
   ]
  },
  {
   "cell_type": "code",
   "execution_count": null,
   "metadata": {},
   "outputs": [],
   "source": [
    "# Nu grupperar vi på kön och plockar de med högsta lönerna per grupp\n",
    "\n",
    "df_staff.groupby('Gender').apply(top)"
   ]
  },
  {
   "cell_type": "markdown",
   "metadata": {},
   "source": [
    "## 10. Visualisering - Matplotlib\n",
    "### Det finns ett helt ekosystem för visaulisering. Grundmodulen för detta är matplotlib som redan är importerad i denna notebook. Vi ska göra två enkla visualiseringar för att visa konceptet"
   ]
  },
  {
   "cell_type": "code",
   "execution_count": null,
   "metadata": {},
   "outputs": [],
   "source": [
    "# Definierar hela arean\n",
    "fig = plt.figure(figsize = (10,5))\n",
    "# Skapar grafobjekt som ska läggas in i arean ovan\n",
    "ax = fig.add_subplot(1,1,1)\n",
    "\n",
    "ax.set_title('Inkomst fördelat på kön')\n",
    "\n",
    "bar_serie = round(df_staff.groupby('Gender')['Salary'].mean())\n",
    "\n",
    "bar_serie.plot(kind='bar', rot = 0, grid = False, alpha = 0.6)\n",
    "\n",
    "plt.show()"
   ]
  },
  {
   "cell_type": "markdown",
   "metadata": {},
   "source": [
    "### Vad ska man tänka på här? Det finns oändligt många parametrar att sätta?\n",
    "### Alla dataframes och serier har en plot metod. \n",
    "### Om man sätter ett index blir detta index alltid X axeln\n",
    "### Det enda sättet är att pröva sig fram med olika grafer, se hjälpen nedan\n",
    "### Bra att känna till är att man kan annotera samt skapa flera grafer i samma area\n"
   ]
  },
  {
   "cell_type": "code",
   "execution_count": null,
   "metadata": {},
   "outputs": [],
   "source": [
    "?bar_serie.plot"
   ]
  },
  {
   "cell_type": "markdown",
   "metadata": {},
   "source": [
    "### Exenmpel annotering samt två grafer i samma bild"
   ]
  },
  {
   "cell_type": "code",
   "execution_count": null,
   "metadata": {},
   "outputs": [],
   "source": [
    "fig = plt.figure(figsize = (18,9))\n",
    "# Skapar grafobjekt som ska läggas in i arean ovan\n",
    "# Graf1\n",
    "ax1 = fig.add_subplot(2,1,1)\n",
    "# Graf2\n",
    "ax2 = fig.add_subplot(2,1,2)\n",
    "\n",
    "ax1.set_title('Inkomst fördelat på kön')\n",
    "\n",
    "ax2.set_title('Antal anställda per år')\n",
    "\n",
    "bar_serie = round(df_staff.groupby('Gender')['Salary'].mean())\n",
    "\n",
    "line_serie = round(df_staff.groupby('Year')['Gender'].count())\n",
    "\n",
    "bar_serie.plot(kind='bar', ax = ax1, rot = 0, grid = False, alpha = 0.6)\n",
    "\n",
    "line_serie.plot(kind='line', ax = ax2, rot = 0, style = 'k-')\n",
    "\n",
    "### Nedan logik för annotering i graf2\n",
    "\n",
    "ax2.annotate('Vad händer 2010?', \n",
    "            xy = (2010, 95),\n",
    "            xytext = (2000, 80),\n",
    "            arrowprops = dict(facecolor = 'black', shrink = 0.1, width = 2),\n",
    "            horizontalalignment = 'left')\n",
    "\n",
    "plt.show()"
   ]
  },
  {
   "cell_type": "code",
   "execution_count": null,
   "metadata": {},
   "outputs": [],
   "source": [
    "?ax2.annotate"
   ]
  }
 ],
 "metadata": {
  "kernelspec": {
   "display_name": "Python 3",
   "language": "python",
   "name": "python3"
  },
  "language_info": {
   "codemirror_mode": {
    "name": "ipython",
    "version": 3
   },
   "file_extension": ".py",
   "mimetype": "text/x-python",
   "name": "python",
   "nbconvert_exporter": "python",
   "pygments_lexer": "ipython3",
   "version": "3.6.1"
  }
 },
 "nbformat": 4,
 "nbformat_minor": 2
}
