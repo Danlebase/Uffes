{
 "cells": [
  {
   "cell_type": "markdown",
   "metadata": {},
   "source": [
    "# Bakgrund\n",
    "\n",
    "__ I machinelearning exemplet så tog vi fram en Random Forrest modell. I princip gjorde vi ett minimum av beskrivande statistik. Vi läste in datat och tryckte på med modellen. Om det inte finns något behov av att förstå modellen så är denna metodik OK. Dock är oftast en bra idé att först börja med ett grundläggande arbete med att på olika sätt förstå sitt data. Oftast är det denna del som tar 80% av arbetet för en analytiker: att förstå och transformera datat till ett sådant skick att man kan applicera en modell på det. För att kunna fungera som en självgående Data Scientist måste man kunna arbeta med data. Nedan förslag på några övningar där vi praktiserar de exempel som jag visade i tidigare notebooks. Vi använder samma data som i machinelearning exemplet men nu gör vi det nödvändiga förarbetet. I notebooken Veteran_charity_solutions ligger exempel på hur man kan lösa dessa uppgifter.__\n",
    "\n",
    "__En mycket bra resurs att söka hjälp i är pandas egen dokumentation: https://pandas.pydata.org/pandas-docs/stable/getting_started/comparison/comparison_with_sas.html__\n",
    "\n",
    "__I Table of Contents finns \"Comparison with SAS\". I denna så jämför man pandas med SAS utifrån flera olika perspektiv. Jag brukar alltid ha den öppen när jag arbetar med analys i pandas__\n",
    "\n",
    "\n",
    "\n",
    "__The veteran dataset contains 44 variables that describes the features for givers and non-givers for a charity campaign. The label that defines a donation is Target_B.__ \n",
    "\n",
    "\n",
    "- Target_B = 1: Donation\n",
    "- Target_B = 0: No donation \n",
    "\n",
    "__Vi genomför ett antal övningar för att ta fram beskrivande statistik__"
   ]
  },
  {
   "cell_type": "markdown",
   "metadata": {},
   "source": [
    "__1. Börja med att importera nödvändiga moduler: pandas, numpy och matplotlib__"
   ]
  },
  {
   "cell_type": "code",
   "execution_count": 1,
   "metadata": {},
   "outputs": [],
   "source": [
    "# Först importerar vi nödvändiga moduler\n",
    "import numpy as np\n",
    "import pandas as pd \n",
    "import matplotlib.pylab as plt "
   ]
  },
  {
   "cell_type": "markdown",
   "metadata": {},
   "source": [
    "__2. Importera veteran_brutto.csv med lämplig pandas funktion Använd head() metoden för att titta på datat__"
   ]
  },
  {
   "cell_type": "code",
   "execution_count": 2,
   "metadata": {},
   "outputs": [
    {
     "data": {
      "text/html": [
       "<div>\n",
       "<style>\n",
       "    .dataframe thead tr:only-child th {\n",
       "        text-align: right;\n",
       "    }\n",
       "\n",
       "    .dataframe thead th {\n",
       "        text-align: left;\n",
       "    }\n",
       "\n",
       "    .dataframe tbody tr th {\n",
       "        vertical-align: top;\n",
       "    }\n",
       "</style>\n",
       "<table border=\"1\" class=\"dataframe\">\n",
       "  <thead>\n",
       "    <tr style=\"text-align: right;\">\n",
       "      <th></th>\n",
       "      <th>TARGET_B</th>\n",
       "      <th>MONTHS_SINCE_ORIGIN</th>\n",
       "      <th>DONOR_AGE</th>\n",
       "      <th>IN_HOUSE</th>\n",
       "      <th>URBANICITY</th>\n",
       "      <th>SES</th>\n",
       "      <th>CLUSTER_CODE</th>\n",
       "      <th>HOME_OWNER</th>\n",
       "      <th>DONOR_GENDER</th>\n",
       "      <th>INCOME_GROUP</th>\n",
       "      <th>...</th>\n",
       "      <th>LIFETIME_AVG_GIFT_AMT</th>\n",
       "      <th>LIFETIME_GIFT_RANGE</th>\n",
       "      <th>LIFETIME_MAX_GIFT_AMT</th>\n",
       "      <th>LIFETIME_MIN_GIFT_AMT</th>\n",
       "      <th>LAST_GIFT_AMT</th>\n",
       "      <th>CARD_PROM_12</th>\n",
       "      <th>NUMBER_PROM_12</th>\n",
       "      <th>MONTHS_SINCE_LAST_GIFT</th>\n",
       "      <th>MONTHS_SINCE_FIRST_GIFT</th>\n",
       "      <th>PER_CAPITA_INCOME</th>\n",
       "    </tr>\n",
       "  </thead>\n",
       "  <tbody>\n",
       "    <tr>\n",
       "      <th>0</th>\n",
       "      <td>0</td>\n",
       "      <td>101</td>\n",
       "      <td>87.0</td>\n",
       "      <td>0</td>\n",
       "      <td>?</td>\n",
       "      <td>?</td>\n",
       "      <td>.</td>\n",
       "      <td>H</td>\n",
       "      <td>M</td>\n",
       "      <td>2.0</td>\n",
       "      <td>...</td>\n",
       "      <td>8.49</td>\n",
       "      <td>15.0</td>\n",
       "      <td>20.0</td>\n",
       "      <td>5.0</td>\n",
       "      <td>15.0</td>\n",
       "      <td>5</td>\n",
       "      <td>12</td>\n",
       "      <td>26</td>\n",
       "      <td>92</td>\n",
       "      <td>11855</td>\n",
       "    </tr>\n",
       "    <tr>\n",
       "      <th>1</th>\n",
       "      <td>1</td>\n",
       "      <td>137</td>\n",
       "      <td>79.0</td>\n",
       "      <td>0</td>\n",
       "      <td>R</td>\n",
       "      <td>2</td>\n",
       "      <td>45</td>\n",
       "      <td>H</td>\n",
       "      <td>M</td>\n",
       "      <td>7.0</td>\n",
       "      <td>...</td>\n",
       "      <td>14.72</td>\n",
       "      <td>20.0</td>\n",
       "      <td>25.0</td>\n",
       "      <td>5.0</td>\n",
       "      <td>17.0</td>\n",
       "      <td>7</td>\n",
       "      <td>21</td>\n",
       "      <td>7</td>\n",
       "      <td>122</td>\n",
       "      <td>10385</td>\n",
       "    </tr>\n",
       "    <tr>\n",
       "      <th>2</th>\n",
       "      <td>0</td>\n",
       "      <td>113</td>\n",
       "      <td>75.0</td>\n",
       "      <td>0</td>\n",
       "      <td>S</td>\n",
       "      <td>1</td>\n",
       "      <td>11</td>\n",
       "      <td>H</td>\n",
       "      <td>F</td>\n",
       "      <td>5.0</td>\n",
       "      <td>...</td>\n",
       "      <td>16.75</td>\n",
       "      <td>23.0</td>\n",
       "      <td>28.0</td>\n",
       "      <td>5.0</td>\n",
       "      <td>19.0</td>\n",
       "      <td>11</td>\n",
       "      <td>32</td>\n",
       "      <td>6</td>\n",
       "      <td>105</td>\n",
       "      <td>30855</td>\n",
       "    </tr>\n",
       "    <tr>\n",
       "      <th>3</th>\n",
       "      <td>0</td>\n",
       "      <td>92</td>\n",
       "      <td>NaN</td>\n",
       "      <td>0</td>\n",
       "      <td>U</td>\n",
       "      <td>2</td>\n",
       "      <td>04</td>\n",
       "      <td>H</td>\n",
       "      <td>F</td>\n",
       "      <td>6.0</td>\n",
       "      <td>...</td>\n",
       "      <td>11.76</td>\n",
       "      <td>14.0</td>\n",
       "      <td>17.0</td>\n",
       "      <td>3.0</td>\n",
       "      <td>15.0</td>\n",
       "      <td>11</td>\n",
       "      <td>33</td>\n",
       "      <td>6</td>\n",
       "      <td>92</td>\n",
       "      <td>16342</td>\n",
       "    </tr>\n",
       "    <tr>\n",
       "      <th>4</th>\n",
       "      <td>0</td>\n",
       "      <td>101</td>\n",
       "      <td>74.0</td>\n",
       "      <td>0</td>\n",
       "      <td>R</td>\n",
       "      <td>2</td>\n",
       "      <td>49</td>\n",
       "      <td>U</td>\n",
       "      <td>F</td>\n",
       "      <td>2.0</td>\n",
       "      <td>...</td>\n",
       "      <td>8.83</td>\n",
       "      <td>20.0</td>\n",
       "      <td>25.0</td>\n",
       "      <td>5.0</td>\n",
       "      <td>25.0</td>\n",
       "      <td>6</td>\n",
       "      <td>19</td>\n",
       "      <td>18</td>\n",
       "      <td>92</td>\n",
       "      <td>12107</td>\n",
       "    </tr>\n",
       "  </tbody>\n",
       "</table>\n",
       "<p>5 rows × 45 columns</p>\n",
       "</div>"
      ],
      "text/plain": [
       "   TARGET_B  MONTHS_SINCE_ORIGIN  DONOR_AGE  IN_HOUSE URBANICITY SES  \\\n",
       "0         0                  101       87.0         0          ?   ?   \n",
       "1         1                  137       79.0         0          R   2   \n",
       "2         0                  113       75.0         0          S   1   \n",
       "3         0                   92        NaN         0          U   2   \n",
       "4         0                  101       74.0         0          R   2   \n",
       "\n",
       "  CLUSTER_CODE HOME_OWNER DONOR_GENDER  INCOME_GROUP        ...          \\\n",
       "0            .          H            M           2.0        ...           \n",
       "1           45          H            M           7.0        ...           \n",
       "2           11          H            F           5.0        ...           \n",
       "3           04          H            F           6.0        ...           \n",
       "4           49          U            F           2.0        ...           \n",
       "\n",
       "   LIFETIME_AVG_GIFT_AMT LIFETIME_GIFT_RANGE  LIFETIME_MAX_GIFT_AMT  \\\n",
       "0                   8.49                15.0                   20.0   \n",
       "1                  14.72                20.0                   25.0   \n",
       "2                  16.75                23.0                   28.0   \n",
       "3                  11.76                14.0                   17.0   \n",
       "4                   8.83                20.0                   25.0   \n",
       "\n",
       "   LIFETIME_MIN_GIFT_AMT  LAST_GIFT_AMT  CARD_PROM_12  NUMBER_PROM_12  \\\n",
       "0                    5.0           15.0             5              12   \n",
       "1                    5.0           17.0             7              21   \n",
       "2                    5.0           19.0            11              32   \n",
       "3                    3.0           15.0            11              33   \n",
       "4                    5.0           25.0             6              19   \n",
       "\n",
       "   MONTHS_SINCE_LAST_GIFT  MONTHS_SINCE_FIRST_GIFT  PER_CAPITA_INCOME  \n",
       "0                      26                       92              11855  \n",
       "1                       7                      122              10385  \n",
       "2                       6                      105              30855  \n",
       "3                       6                       92              16342  \n",
       "4                      18                       92              12107  \n",
       "\n",
       "[5 rows x 45 columns]"
      ]
     },
     "execution_count": 2,
     "metadata": {},
     "output_type": "execute_result"
    }
   ],
   "source": [
    "df = pd.read_csv(\"veteran_brutto.csv\" )\n",
    "df.head()"
   ]
  },
  {
   "cell_type": "markdown",
   "metadata": {},
   "source": [
    "__3. Ta fram information om variablerna. Använd info() metoden__"
   ]
  },
  {
   "cell_type": "code",
   "execution_count": 10,
   "metadata": {},
   "outputs": [
    {
     "name": "stdout",
     "output_type": "stream",
     "text": [
      "<class 'pandas.core.frame.DataFrame'>\n",
      "RangeIndex: 19372 entries, 0 to 19371\n",
      "Data columns (total 45 columns):\n",
      "TARGET_B                      19372 non-null int64\n",
      "MONTHS_SINCE_ORIGIN           19372 non-null int64\n",
      "DONOR_AGE                     14577 non-null float64\n",
      "IN_HOUSE                      19372 non-null int64\n",
      "URBANICITY                    19372 non-null object\n",
      "SES                           19372 non-null object\n",
      "CLUSTER_CODE                  19372 non-null object\n",
      "HOME_OWNER                    19372 non-null object\n",
      "DONOR_GENDER                  19372 non-null object\n",
      "INCOME_GROUP                  14980 non-null float64\n",
      "PUBLISHED_PHONE               19372 non-null int64\n",
      "OVERLAY_SOURCE                19372 non-null object\n",
      "MOR_HIT_RATE                  19372 non-null int64\n",
      "WEALTH_RATING                 10562 non-null float64\n",
      "MEDIAN_HOME_VALUE             19372 non-null int64\n",
      "MEDIAN_HOUSEHOLD_INCOME       19372 non-null int64\n",
      "PCT_OWNER_OCCUPIED            19372 non-null int64\n",
      "PCT_MALE_MILITARY             19372 non-null int64\n",
      "PCT_MALE_VETERANS             19372 non-null int64\n",
      "PCT_VIETNAM_VETERANS          19372 non-null int64\n",
      "PCT_WWII_VETERANS             19372 non-null int64\n",
      "PEP_STAR                      19372 non-null int64\n",
      "RECENT_STAR_STATUS            19372 non-null int64\n",
      "RECENCY_STATUS_96NK           19372 non-null object\n",
      "FREQUENCY_STATUS_97NK         19372 non-null int64\n",
      "RECENT_RESPONSE_PROP          19372 non-null float64\n",
      "RECENT_AVG_GIFT_AMT           19372 non-null float64\n",
      "RECENT_CARD_RESPONSE_PROP     19372 non-null float64\n",
      "RECENT_AVG_CARD_GIFT_AMT      19372 non-null float64\n",
      "RECENT_RESPONSE_COUNT         19372 non-null int64\n",
      "RECENT_CARD_RESPONSE_COUNT    19372 non-null int64\n",
      "LIFETIME_CARD_PROM            19372 non-null int64\n",
      "LIFETIME_PROM                 19372 non-null int64\n",
      "LIFETIME_GIFT_AMOUNT          19372 non-null float64\n",
      "LIFETIME_GIFT_COUNT           19372 non-null int64\n",
      "LIFETIME_AVG_GIFT_AMT         19372 non-null float64\n",
      "LIFETIME_GIFT_RANGE           19372 non-null float64\n",
      "LIFETIME_MAX_GIFT_AMT         19372 non-null float64\n",
      "LIFETIME_MIN_GIFT_AMT         19372 non-null float64\n",
      "LAST_GIFT_AMT                 19372 non-null float64\n",
      "CARD_PROM_12                  19372 non-null int64\n",
      "NUMBER_PROM_12                19372 non-null int64\n",
      "MONTHS_SINCE_LAST_GIFT        19372 non-null int64\n",
      "MONTHS_SINCE_FIRST_GIFT       19372 non-null int64\n",
      "PER_CAPITA_INCOME             19372 non-null int64\n",
      "dtypes: float64(13), int64(25), object(7)\n",
      "memory usage: 6.7+ MB\n"
     ]
    }
   ],
   "source": [
    "# Information om dataframen\n",
    "df.info()"
   ]
  },
  {
   "cell_type": "markdown",
   "metadata": {},
   "source": [
    "__4. Variabeln DONOR_AGE innehåller missing. Idenfiera missing och ersätt med medianen för DONOR_AGE. SciKit modulen innehåller en metod för detta men nu ska vi göra det i pandas__\n",
    "* Beräkna medianen för DONOR_AGE, referera med variabeln med_age\n",
    "* Imputera med_age på de rader i dataframen som innehåller missing NaN\n",
    "* Använd lämplig metod på df['DONOR_AGE'] för att beräkna median värdet\n",
    "* För att ersätta missing, använd metoden fillna(). Checka hjälpen med ?dataframe.fillna för att se vilket argument som ska skickas in\n",
    "* Checka med info() metoden igen att variabeln inte innehåller missing"
   ]
  },
  {
   "cell_type": "code",
   "execution_count": 79,
   "metadata": {
    "collapsed": true
   },
   "outputs": [],
   "source": [
    "med_age = df['DONOR_AGE'].median() "
   ]
  },
  {
   "cell_type": "code",
   "execution_count": 80,
   "metadata": {
    "collapsed": true
   },
   "outputs": [],
   "source": [
    "df['DONOR_AGE'] = df['DONOR_AGE'].fillna(med_age)"
   ]
  },
  {
   "cell_type": "code",
   "execution_count": 83,
   "metadata": {},
   "outputs": [
    {
     "name": "stdout",
     "output_type": "stream",
     "text": [
      "<class 'pandas.core.frame.DataFrame'>\n",
      "RangeIndex: 19372 entries, 0 to 19371\n",
      "Data columns (total 2 columns):\n",
      "TARGET_B     19372 non-null int64\n",
      "DONOR_AGE    19372 non-null float64\n",
      "dtypes: float64(1), int64(1)\n",
      "memory usage: 302.8 KB\n"
     ]
    }
   ],
   "source": [
    "df[['TARGET_B','DONOR_AGE']].info()"
   ]
  },
  {
   "cell_type": "markdown",
   "metadata": {
    "collapsed": true
   },
   "source": [
    "__5. Hur många har donerat, respektive inte donerat? Använd value_counts() metoden__"
   ]
  },
  {
   "cell_type": "code",
   "execution_count": 3,
   "metadata": {},
   "outputs": [
    {
     "data": {
      "text/plain": [
       "0    14529\n",
       "1     4843\n",
       "Name: TARGET_B, dtype: int64"
      ]
     },
     "execution_count": 3,
     "metadata": {},
     "output_type": "execute_result"
    }
   ],
   "source": [
    "df['TARGET_B'].value_counts()"
   ]
  },
  {
   "cell_type": "markdown",
   "metadata": {},
   "source": [
    "__6. Andel donatorer i datat? Dela med antalet observationer i dataframen - len() metoden__"
   ]
  },
  {
   "cell_type": "code",
   "execution_count": 4,
   "metadata": {},
   "outputs": [
    {
     "data": {
      "text/plain": [
       "0    0.75\n",
       "1    0.25\n",
       "Name: TARGET_B, dtype: float64"
      ]
     },
     "execution_count": 4,
     "metadata": {},
     "output_type": "execute_result"
    }
   ],
   "source": [
    "df['TARGET_B'].value_counts()/len(df)"
   ]
  },
  {
   "cell_type": "markdown",
   "metadata": {},
   "source": [
    "__7. Fördelning kön totalt i datasetet? Vad är konstigt här?__"
   ]
  },
  {
   "cell_type": "code",
   "execution_count": 5,
   "metadata": {},
   "outputs": [
    {
     "data": {
      "text/plain": [
       "F    10401\n",
       "M     7953\n",
       "U     1017\n",
       "A        1\n",
       "Name: DONOR_GENDER, dtype: int64"
      ]
     },
     "execution_count": 5,
     "metadata": {},
     "output_type": "execute_result"
    }
   ],
   "source": [
    "df['DONOR_GENDER'].value_counts()"
   ]
  },
  {
   "cell_type": "markdown",
   "metadata": {},
   "source": [
    "__8. Filtrera bort de som inte är män eller kvinnor. Använd sedan den skapade dataframen i de fortsatta övningarna. Räkna antalet observationer i den filtrerade dataframen med len() funktion__\n",
    "\n",
    "__För att checka ett bolean uttryck i en lista så används isin() metoden som appliceras mot vald variabel och checkas mot en lista__"
   ]
  },
  {
   "cell_type": "code",
   "execution_count": 8,
   "metadata": {},
   "outputs": [],
   "source": [
    "df_subset = df[df['DONOR_GENDER'].isin(['F','M'])]"
   ]
  },
  {
   "cell_type": "code",
   "execution_count": 9,
   "metadata": {},
   "outputs": [
    {
     "data": {
      "text/plain": [
       "18354"
      ]
     },
     "execution_count": 9,
     "metadata": {},
     "output_type": "execute_result"
    }
   ],
   "source": [
    "len(df_subset)"
   ]
  },
  {
   "cell_type": "markdown",
   "metadata": {},
   "source": [
    "__9. Hur ser fördelningen ut för de som donerat mellan män och kvinnor?. Använd dataframen du skapade ovan__\n",
    "__Filtrera på TARGET_B, välj sedan metoden value_counts()__"
   ]
  },
  {
   "cell_type": "code",
   "execution_count": 21,
   "metadata": {},
   "outputs": [
    {
     "data": {
      "text/plain": [
       "F    2609\n",
       "M    1962\n",
       "Name: DONOR_GENDER, dtype: int64"
      ]
     },
     "execution_count": 21,
     "metadata": {},
     "output_type": "execute_result"
    }
   ],
   "source": [
    "df_subset[df_subset['TARGET_B'] == 1]['DONOR_GENDER'].value_counts()"
   ]
  },
  {
   "cell_type": "markdown",
   "metadata": {},
   "source": [
    "__10. Finns det någon skillnad i inkomst per capita för de som donerar eller ej?__\n",
    "__Gruppera på TARGET_B, applicera sedan mean() metoden på det grupperade objektet. Glöm inte av välja variabel att applicera metoden på__"
   ]
  },
  {
   "cell_type": "code",
   "execution_count": 26,
   "metadata": {},
   "outputs": [
    {
     "data": {
      "text/plain": [
       "TARGET_B\n",
       "0    15642.0\n",
       "1    16509.0\n",
       "Name: PER_CAPITA_INCOME, dtype: float64"
      ]
     },
     "execution_count": 26,
     "metadata": {},
     "output_type": "execute_result"
    }
   ],
   "source": [
    "round(df_subset.groupby('TARGET_B')['PER_CAPITA_INCOME'].mean())"
   ]
  },
  {
   "cell_type": "markdown",
   "metadata": {},
   "source": [
    "__11. Skapa ett grupperat objekt på 'DONOR_GENDER' och 'TARGET_B'. Referera objekted med variabeln grouped_gen_target__"
   ]
  },
  {
   "cell_type": "code",
   "execution_count": 28,
   "metadata": {
    "collapsed": true
   },
   "outputs": [],
   "source": [
    "grouped_gen_target = df_subset.groupby(['DONOR_GENDER','TARGET_B'])"
   ]
  },
  {
   "cell_type": "markdown",
   "metadata": {},
   "source": [
    "__12. Apply-Split-Combine. Använd agg metoden för att ta fram medelvärde, min och max för per capita income  på det grupperade objektet  grouped_gen_target__"
   ]
  },
  {
   "cell_type": "code",
   "execution_count": 30,
   "metadata": {},
   "outputs": [
    {
     "data": {
      "text/html": [
       "<div>\n",
       "<style>\n",
       "    .dataframe thead tr:only-child th {\n",
       "        text-align: right;\n",
       "    }\n",
       "\n",
       "    .dataframe thead th {\n",
       "        text-align: left;\n",
       "    }\n",
       "\n",
       "    .dataframe tbody tr th {\n",
       "        vertical-align: top;\n",
       "    }\n",
       "</style>\n",
       "<table border=\"1\" class=\"dataframe\">\n",
       "  <thead>\n",
       "    <tr style=\"text-align: right;\">\n",
       "      <th></th>\n",
       "      <th></th>\n",
       "      <th>mean</th>\n",
       "      <th>max</th>\n",
       "      <th>min</th>\n",
       "    </tr>\n",
       "    <tr>\n",
       "      <th>DONOR_GENDER</th>\n",
       "      <th>TARGET_B</th>\n",
       "      <th></th>\n",
       "      <th></th>\n",
       "      <th></th>\n",
       "    </tr>\n",
       "  </thead>\n",
       "  <tbody>\n",
       "    <tr>\n",
       "      <th rowspan=\"2\" valign=\"top\">F</th>\n",
       "      <th>0</th>\n",
       "      <td>15594.555441</td>\n",
       "      <td>106273</td>\n",
       "      <td>0</td>\n",
       "    </tr>\n",
       "    <tr>\n",
       "      <th>1</th>\n",
       "      <td>16309.715983</td>\n",
       "      <td>130295</td>\n",
       "      <td>0</td>\n",
       "    </tr>\n",
       "    <tr>\n",
       "      <th rowspan=\"2\" valign=\"top\">M</th>\n",
       "      <th>0</th>\n",
       "      <td>15704.493073</td>\n",
       "      <td>90600</td>\n",
       "      <td>0</td>\n",
       "    </tr>\n",
       "    <tr>\n",
       "      <th>1</th>\n",
       "      <td>16773.274210</td>\n",
       "      <td>174523</td>\n",
       "      <td>0</td>\n",
       "    </tr>\n",
       "  </tbody>\n",
       "</table>\n",
       "</div>"
      ],
      "text/plain": [
       "                               mean     max  min\n",
       "DONOR_GENDER TARGET_B                           \n",
       "F            0         15594.555441  106273    0\n",
       "             1         16309.715983  130295    0\n",
       "M            0         15704.493073   90600    0\n",
       "             1         16773.274210  174523    0"
      ]
     },
     "execution_count": 30,
     "metadata": {},
     "output_type": "execute_result"
    }
   ],
   "source": [
    "grouped_gen_target['PER_CAPITA_INCOME'].agg(['mean','max','min'])"
   ]
  },
  {
   "cell_type": "markdown",
   "metadata": {},
   "source": [
    "__13. Lägg till variabeln MEDIAN_HOUSEHOLD_INCOME i uttrycket ovan__"
   ]
  },
  {
   "cell_type": "code",
   "execution_count": 61,
   "metadata": {},
   "outputs": [
    {
     "data": {
      "text/html": [
       "<div>\n",
       "<style>\n",
       "    .dataframe thead tr:only-child th {\n",
       "        text-align: right;\n",
       "    }\n",
       "\n",
       "    .dataframe thead th {\n",
       "        text-align: left;\n",
       "    }\n",
       "\n",
       "    .dataframe tbody tr th {\n",
       "        vertical-align: top;\n",
       "    }\n",
       "</style>\n",
       "<table border=\"1\" class=\"dataframe\">\n",
       "  <thead>\n",
       "    <tr>\n",
       "      <th></th>\n",
       "      <th></th>\n",
       "      <th colspan=\"3\" halign=\"left\">PER_CAPITA_INCOME</th>\n",
       "      <th colspan=\"3\" halign=\"left\">MEDIAN_HOUSEHOLD_INCOME</th>\n",
       "    </tr>\n",
       "    <tr>\n",
       "      <th></th>\n",
       "      <th></th>\n",
       "      <th>mean</th>\n",
       "      <th>max</th>\n",
       "      <th>min</th>\n",
       "      <th>mean</th>\n",
       "      <th>max</th>\n",
       "      <th>min</th>\n",
       "    </tr>\n",
       "    <tr>\n",
       "      <th>DONOR_GENDER</th>\n",
       "      <th>TARGET_B</th>\n",
       "      <th></th>\n",
       "      <th></th>\n",
       "      <th></th>\n",
       "      <th></th>\n",
       "      <th></th>\n",
       "      <th></th>\n",
       "    </tr>\n",
       "  </thead>\n",
       "  <tbody>\n",
       "    <tr>\n",
       "      <th rowspan=\"2\" valign=\"top\">F</th>\n",
       "      <th>0</th>\n",
       "      <td>15594.555441</td>\n",
       "      <td>106273</td>\n",
       "      <td>0</td>\n",
       "      <td>336.184292</td>\n",
       "      <td>1500</td>\n",
       "      <td>0</td>\n",
       "    </tr>\n",
       "    <tr>\n",
       "      <th>1</th>\n",
       "      <td>16309.715983</td>\n",
       "      <td>130295</td>\n",
       "      <td>0</td>\n",
       "      <td>345.305481</td>\n",
       "      <td>1500</td>\n",
       "      <td>0</td>\n",
       "    </tr>\n",
       "    <tr>\n",
       "      <th rowspan=\"2\" valign=\"top\">M</th>\n",
       "      <th>0</th>\n",
       "      <td>15704.493073</td>\n",
       "      <td>90600</td>\n",
       "      <td>0</td>\n",
       "      <td>341.931230</td>\n",
       "      <td>1500</td>\n",
       "      <td>0</td>\n",
       "    </tr>\n",
       "    <tr>\n",
       "      <th>1</th>\n",
       "      <td>16773.274210</td>\n",
       "      <td>174523</td>\n",
       "      <td>0</td>\n",
       "      <td>364.137615</td>\n",
       "      <td>1500</td>\n",
       "      <td>0</td>\n",
       "    </tr>\n",
       "  </tbody>\n",
       "</table>\n",
       "</div>"
      ],
      "text/plain": [
       "                      PER_CAPITA_INCOME             MEDIAN_HOUSEHOLD_INCOME  \\\n",
       "                                   mean     max min                    mean   \n",
       "DONOR_GENDER TARGET_B                                                         \n",
       "F            0             15594.555441  106273   0              336.184292   \n",
       "             1             16309.715983  130295   0              345.305481   \n",
       "M            0             15704.493073   90600   0              341.931230   \n",
       "             1             16773.274210  174523   0              364.137615   \n",
       "\n",
       "                                 \n",
       "                        max min  \n",
       "DONOR_GENDER TARGET_B            \n",
       "F            0         1500   0  \n",
       "             1         1500   0  \n",
       "M            0         1500   0  \n",
       "             1         1500   0  "
      ]
     },
     "execution_count": 61,
     "metadata": {},
     "output_type": "execute_result"
    }
   ],
   "source": [
    "grouped_gen_target[['PER_CAPITA_INCOME','MEDIAN_HOUSEHOLD_INCOME']].agg(['mean','max','min'])"
   ]
  },
  {
   "cell_type": "markdown",
   "metadata": {},
   "source": [
    "__14. Vilket kluster har den högsta andelen givare? När man gör en statistisk modell börjar man alltid med att titta på sitt data. Machinelaerning handlar mer om att cruncha data och få fram något som fungerar. Vad som driver modellen kan i många fall bli svårt att förstå. Syftet med denna övning är att ta fram andelen donatorer i varje kluster och sedan plocka fram de fem kluster med högst andel. Här kommer vi att använda metoder som är lite nya. Man kan säkert lösa detta på flera sätt. Nedan lite hjälp som visar hur jag gjorde det__\n",
    "* Skapa två dataframes - ett som innehåller totala antalet personer i varje kluster och ett som innehåller antalet donatorer\n",
    "* För att göra detta använd metoden value_counts på 'CLUSTER_CODE'. Det som returneras är en serie. Konvertera denna serie med metoden to_frame()\n",
    "* Den returnerade dataframen kommer att vara indexerad på klusterkod\n",
    "* Döp om variabeln 'CLUSTER_CODE' i respektive frame för att kunna merga dem. Läs i Pandas dokumentationen för hur detta går till: https://pandas.pydata.org/pandas-docs/stable/\n",
    "* Merga dina två dataframes på index. Då använder man inte ON argumentet- Titta på hjälpen för detta ?df.merge(). Två av argumenten är left_index samt right_index.\n",
    "* När dataframsen är mergade så skapa en ny variabel som innehåller andel donatorer per kluster\n",
    "* Sortera dataframen på denna skapae varibel. Använd metoden sort_values(). Tänk på att du vill ta fram de fem kluster med högst andel. Tips ?df.sort_values() och titta på argumenten"
   ]
  },
  {
   "cell_type": "markdown",
   "metadata": {},
   "source": [
    "__14.1 Skapa två dataframes__"
   ]
  },
  {
   "cell_type": "code",
   "execution_count": 64,
   "metadata": {},
   "outputs": [
    {
     "data": {
      "text/html": [
       "<div>\n",
       "<style>\n",
       "    .dataframe thead tr:only-child th {\n",
       "        text-align: right;\n",
       "    }\n",
       "\n",
       "    .dataframe thead th {\n",
       "        text-align: left;\n",
       "    }\n",
       "\n",
       "    .dataframe tbody tr th {\n",
       "        vertical-align: top;\n",
       "    }\n",
       "</style>\n",
       "<table border=\"1\" class=\"dataframe\">\n",
       "  <thead>\n",
       "    <tr style=\"text-align: right;\">\n",
       "      <th></th>\n",
       "      <th>CLUSTER_CODE</th>\n",
       "    </tr>\n",
       "  </thead>\n",
       "  <tbody>\n",
       "    <tr>\n",
       "      <th>40</th>\n",
       "      <td>830</td>\n",
       "    </tr>\n",
       "    <tr>\n",
       "      <th>24</th>\n",
       "      <td>795</td>\n",
       "    </tr>\n",
       "    <tr>\n",
       "      <th>35</th>\n",
       "      <td>727</td>\n",
       "    </tr>\n",
       "    <tr>\n",
       "      <th>36</th>\n",
       "      <td>716</td>\n",
       "    </tr>\n",
       "    <tr>\n",
       "      <th>49</th>\n",
       "      <td>675</td>\n",
       "    </tr>\n",
       "  </tbody>\n",
       "</table>\n",
       "</div>"
      ],
      "text/plain": [
       "    CLUSTER_CODE\n",
       "40           830\n",
       "24           795\n",
       "35           727\n",
       "36           716\n",
       "49           675"
      ]
     },
     "execution_count": 64,
     "metadata": {},
     "output_type": "execute_result"
    }
   ],
   "source": [
    "n_cluster = df['CLUSTER_CODE'].value_counts().to_frame()\n",
    "n_cluster.head()"
   ]
  },
  {
   "cell_type": "code",
   "execution_count": 63,
   "metadata": {},
   "outputs": [
    {
     "data": {
      "text/html": [
       "<div>\n",
       "<style>\n",
       "    .dataframe thead tr:only-child th {\n",
       "        text-align: right;\n",
       "    }\n",
       "\n",
       "    .dataframe thead th {\n",
       "        text-align: left;\n",
       "    }\n",
       "\n",
       "    .dataframe tbody tr th {\n",
       "        vertical-align: top;\n",
       "    }\n",
       "</style>\n",
       "<table border=\"1\" class=\"dataframe\">\n",
       "  <thead>\n",
       "    <tr style=\"text-align: right;\">\n",
       "      <th></th>\n",
       "      <th>CLUSTER_CODE</th>\n",
       "    </tr>\n",
       "  </thead>\n",
       "  <tbody>\n",
       "    <tr>\n",
       "      <th>40</th>\n",
       "      <td>235</td>\n",
       "    </tr>\n",
       "    <tr>\n",
       "      <th>24</th>\n",
       "      <td>216</td>\n",
       "    </tr>\n",
       "    <tr>\n",
       "      <th>35</th>\n",
       "      <td>202</td>\n",
       "    </tr>\n",
       "    <tr>\n",
       "      <th>36</th>\n",
       "      <td>185</td>\n",
       "    </tr>\n",
       "    <tr>\n",
       "      <th>13</th>\n",
       "      <td>171</td>\n",
       "    </tr>\n",
       "  </tbody>\n",
       "</table>\n",
       "</div>"
      ],
      "text/plain": [
       "    CLUSTER_CODE\n",
       "40           235\n",
       "24           216\n",
       "35           202\n",
       "36           185\n",
       "13           171"
      ]
     },
     "execution_count": 63,
     "metadata": {},
     "output_type": "execute_result"
    }
   ],
   "source": [
    "n_cluster_1 = df[df['TARGET_B'] == 1]['CLUSTER_CODE'].value_counts().to_frame()\n",
    "n_cluster_1.head()"
   ]
  },
  {
   "cell_type": "markdown",
   "metadata": {},
   "source": [
    "__14.2 Döp om variablerna för att kunna merga__"
   ]
  },
  {
   "cell_type": "code",
   "execution_count": 65,
   "metadata": {},
   "outputs": [],
   "source": [
    "n_cluster_1 = n_cluster_1.rename(columns= {'CLUSTER_CODE':'Donation'})\n",
    "n_cluster = n_cluster.rename(columns= {'CLUSTER_CODE':'TOTAntal'})\n"
   ]
  },
  {
   "cell_type": "code",
   "execution_count": 67,
   "metadata": {
    "collapsed": true
   },
   "outputs": [],
   "source": [
    "?n_cluster.merge"
   ]
  },
  {
   "cell_type": "code",
   "execution_count": 69,
   "metadata": {},
   "outputs": [
    {
     "data": {
      "text/html": [
       "<div>\n",
       "<style>\n",
       "    .dataframe thead tr:only-child th {\n",
       "        text-align: right;\n",
       "    }\n",
       "\n",
       "    .dataframe thead th {\n",
       "        text-align: left;\n",
       "    }\n",
       "\n",
       "    .dataframe tbody tr th {\n",
       "        vertical-align: top;\n",
       "    }\n",
       "</style>\n",
       "<table border=\"1\" class=\"dataframe\">\n",
       "  <thead>\n",
       "    <tr style=\"text-align: right;\">\n",
       "      <th></th>\n",
       "      <th>TOTAntal</th>\n",
       "      <th>Donation</th>\n",
       "    </tr>\n",
       "  </thead>\n",
       "  <tbody>\n",
       "    <tr>\n",
       "      <th>40</th>\n",
       "      <td>830</td>\n",
       "      <td>235</td>\n",
       "    </tr>\n",
       "    <tr>\n",
       "      <th>24</th>\n",
       "      <td>795</td>\n",
       "      <td>216</td>\n",
       "    </tr>\n",
       "    <tr>\n",
       "      <th>35</th>\n",
       "      <td>727</td>\n",
       "      <td>202</td>\n",
       "    </tr>\n",
       "    <tr>\n",
       "      <th>36</th>\n",
       "      <td>716</td>\n",
       "      <td>185</td>\n",
       "    </tr>\n",
       "    <tr>\n",
       "      <th>49</th>\n",
       "      <td>675</td>\n",
       "      <td>148</td>\n",
       "    </tr>\n",
       "  </tbody>\n",
       "</table>\n",
       "</div>"
      ],
      "text/plain": [
       "    TOTAntal  Donation\n",
       "40       830       235\n",
       "24       795       216\n",
       "35       727       202\n",
       "36       716       185\n",
       "49       675       148"
      ]
     },
     "execution_count": 69,
     "metadata": {},
     "output_type": "execute_result"
    }
   ],
   "source": [
    "merged_df = n_cluster.merge(n_cluster_1, left_index = True, right_index = True)\n",
    "merged_df.head()"
   ]
  },
  {
   "cell_type": "markdown",
   "metadata": {},
   "source": [
    "__14.3 Beräkna andelen som en kvot__"
   ]
  },
  {
   "cell_type": "code",
   "execution_count": 72,
   "metadata": {},
   "outputs": [
    {
     "data": {
      "text/html": [
       "<div>\n",
       "<style>\n",
       "    .dataframe thead tr:only-child th {\n",
       "        text-align: right;\n",
       "    }\n",
       "\n",
       "    .dataframe thead th {\n",
       "        text-align: left;\n",
       "    }\n",
       "\n",
       "    .dataframe tbody tr th {\n",
       "        vertical-align: top;\n",
       "    }\n",
       "</style>\n",
       "<table border=\"1\" class=\"dataframe\">\n",
       "  <thead>\n",
       "    <tr style=\"text-align: right;\">\n",
       "      <th></th>\n",
       "      <th>TOTAntal</th>\n",
       "      <th>Donation</th>\n",
       "      <th>Andel</th>\n",
       "    </tr>\n",
       "  </thead>\n",
       "  <tbody>\n",
       "    <tr>\n",
       "      <th>40</th>\n",
       "      <td>830</td>\n",
       "      <td>235</td>\n",
       "      <td>0.283133</td>\n",
       "    </tr>\n",
       "    <tr>\n",
       "      <th>24</th>\n",
       "      <td>795</td>\n",
       "      <td>216</td>\n",
       "      <td>0.271698</td>\n",
       "    </tr>\n",
       "    <tr>\n",
       "      <th>35</th>\n",
       "      <td>727</td>\n",
       "      <td>202</td>\n",
       "      <td>0.277854</td>\n",
       "    </tr>\n",
       "    <tr>\n",
       "      <th>36</th>\n",
       "      <td>716</td>\n",
       "      <td>185</td>\n",
       "      <td>0.258380</td>\n",
       "    </tr>\n",
       "    <tr>\n",
       "      <th>49</th>\n",
       "      <td>675</td>\n",
       "      <td>148</td>\n",
       "      <td>0.219259</td>\n",
       "    </tr>\n",
       "  </tbody>\n",
       "</table>\n",
       "</div>"
      ],
      "text/plain": [
       "    TOTAntal  Donation     Andel\n",
       "40       830       235  0.283133\n",
       "24       795       216  0.271698\n",
       "35       727       202  0.277854\n",
       "36       716       185  0.258380\n",
       "49       675       148  0.219259"
      ]
     },
     "execution_count": 72,
     "metadata": {},
     "output_type": "execute_result"
    }
   ],
   "source": [
    "merged_df['Andel'] = merged_df['Donation'] / merged_df['TOTAntal']\n",
    "merged_df.head()"
   ]
  },
  {
   "cell_type": "markdown",
   "metadata": {},
   "source": [
    "__14.5 Sortera dataframen på den skapade variabeln ovan. Obs - vi vill se de 5 klustren med högsta andel__"
   ]
  },
  {
   "cell_type": "code",
   "execution_count": 75,
   "metadata": {
    "collapsed": true
   },
   "outputs": [],
   "source": [
    "?merged_df.sort_values"
   ]
  },
  {
   "cell_type": "code",
   "execution_count": 76,
   "metadata": {},
   "outputs": [
    {
     "data": {
      "text/html": [
       "<div>\n",
       "<style>\n",
       "    .dataframe thead tr:only-child th {\n",
       "        text-align: right;\n",
       "    }\n",
       "\n",
       "    .dataframe thead th {\n",
       "        text-align: left;\n",
       "    }\n",
       "\n",
       "    .dataframe tbody tr th {\n",
       "        vertical-align: top;\n",
       "    }\n",
       "</style>\n",
       "<table border=\"1\" class=\"dataframe\">\n",
       "  <thead>\n",
       "    <tr style=\"text-align: right;\">\n",
       "      <th></th>\n",
       "      <th>TOTAntal</th>\n",
       "      <th>Donation</th>\n",
       "      <th>Andel</th>\n",
       "    </tr>\n",
       "  </thead>\n",
       "  <tbody>\n",
       "    <tr>\n",
       "      <th>28</th>\n",
       "      <td>343</td>\n",
       "      <td>109</td>\n",
       "      <td>0.317784</td>\n",
       "    </tr>\n",
       "    <tr>\n",
       "      <th>.</th>\n",
       "      <td>454</td>\n",
       "      <td>140</td>\n",
       "      <td>0.308370</td>\n",
       "    </tr>\n",
       "    <tr>\n",
       "      <th>13</th>\n",
       "      <td>579</td>\n",
       "      <td>171</td>\n",
       "      <td>0.295337</td>\n",
       "    </tr>\n",
       "    <tr>\n",
       "      <th>20</th>\n",
       "      <td>317</td>\n",
       "      <td>93</td>\n",
       "      <td>0.293375</td>\n",
       "    </tr>\n",
       "    <tr>\n",
       "      <th>53</th>\n",
       "      <td>303</td>\n",
       "      <td>88</td>\n",
       "      <td>0.290429</td>\n",
       "    </tr>\n",
       "  </tbody>\n",
       "</table>\n",
       "</div>"
      ],
      "text/plain": [
       "    TOTAntal  Donation     Andel\n",
       "28       343       109  0.317784\n",
       ".        454       140  0.308370\n",
       "13       579       171  0.295337\n",
       "20       317        93  0.293375\n",
       "53       303        88  0.290429"
      ]
     },
     "execution_count": 76,
     "metadata": {},
     "output_type": "execute_result"
    }
   ],
   "source": [
    "merged_df.sort_values('Andel', ascending=False).head()"
   ]
  },
  {
   "cell_type": "markdown",
   "metadata": {},
   "source": [
    "__15. Skapa en graf som innehåller två liggande stapeldiagram som ligger under varandra__\n",
    "\n",
    "* Titta på fördelningen av 'URBANICITY' samt 'OVERLAY_SOURCE' med value_counts() metoden. Det är dessa fördelningar vi ska visulalisera och koden för detta återanvänder vi när vi bygger grafen\n",
    "* Skapa ett objekt från plt.figure() metoden. Sätt storlek för hela grafen till 14,9\n",
    "* Skapa två objekt (subplot objekt) som delar in grafen i två ytor med metoden add_subplot(rader, kolumner, nummer på subplot). Objektet som metoden ska appliceras på är objektet från plt.figure() metoden\n",
    "* Återanvänd visualiseringen i första punkten och referera med med två olika variabelnamn\n",
    "* Applicera plot() metoden på objekten ovan. Sätt argument som skapar horisntell graf\n",
    "* Sätt två olika titlar på graferna. Använd metoden set_title() på de två olika subplott objekten\n",
    "* Kan man ändra färg på staplarna? Varför kan man inte läsa sig till argumentet i hjälpen?"
   ]
  },
  {
   "cell_type": "code",
   "execution_count": 87,
   "metadata": {},
   "outputs": [
    {
     "data": {
      "text/plain": [
       "S    4491\n",
       "C    4022\n",
       "R    4005\n",
       "T    3944\n",
       "U    2456\n",
       "?     454\n",
       "Name: URBANICITY, dtype: int64"
      ]
     },
     "execution_count": 87,
     "metadata": {},
     "output_type": "execute_result"
    }
   ],
   "source": [
    "df['URBANICITY'].value_counts()"
   ]
  },
  {
   "cell_type": "code",
   "execution_count": 90,
   "metadata": {},
   "outputs": [
    {
     "data": {
      "text/plain": [
       "B    8732\n",
       "P    4768\n",
       "N    4392\n",
       "M    1480\n",
       "Name: OVERLAY_SOURCE, dtype: int64"
      ]
     },
     "execution_count": 90,
     "metadata": {},
     "output_type": "execute_result"
    }
   ],
   "source": [
    "df['OVERLAY_SOURCE'].value_counts()"
   ]
  },
  {
   "cell_type": "code",
   "execution_count": 106,
   "metadata": {
    "collapsed": true
   },
   "outputs": [],
   "source": [
    "?chart1.plot"
   ]
  },
  {
   "cell_type": "code",
   "execution_count": 105,
   "metadata": {},
   "outputs": [
    {
     "data": {
      "image/png": "[encoded data removed]",
      "text/plain": [
       "<matplotlib.figure.Figure at 0x7fe75a760dd8>"
      ]
     },
     "metadata": {},
     "output_type": "display_data"
    }
   ],
   "source": [
    "fig = plt.figure(figsize = (14,9))\n",
    "# Skapar grafobjekt som ska läggas in i arean ovan\n",
    "# Graf1\n",
    "ax1 = fig.add_subplot(2,1,1)\n",
    "# Graf2\n",
    "ax2 = fig.add_subplot(2,1,2)\n",
    "\n",
    "ax1.set_title('URBANICITY')\n",
    "ax2.set_title('OVERLAY_SOURCE')\n",
    "\n",
    "chart1 = df['URBANICITY'].value_counts()\n",
    "chart2 = df['OVERLAY_SOURCE'].value_counts()\n",
    "\n",
    "chart1.plot(kind='barh', ax = ax1, rot = 0, grid = False, alpha = 0.4)\n",
    "\n",
    "chart2.plot(kind='barh', ax = ax2, rot = 0, grid = False, alpha = 0.4, color = 'green')\n",
    "\n",
    "plt.show()"
   ]
  },
  {
   "cell_type": "code",
   "execution_count": null,
   "metadata": {
    "collapsed": true
   },
   "outputs": [],
   "source": []
  }
 ],
 "metadata": {
  "anaconda-cloud": {},
  "kernelspec": {
   "display_name": "Python 3",
   "language": "python",
   "name": "python3"
  },
  "language_info": {
   "codemirror_mode": {
    "name": "ipython",
    "version": 3
   },
   "file_extension": ".py",
   "mimetype": "text/x-python",
   "name": "python",
   "nbconvert_exporter": "python",
   "pygments_lexer": "ipython3",
   "version": "3.6.1"
  }
 },
 "nbformat": 4,
 "nbformat_minor": 1
}
